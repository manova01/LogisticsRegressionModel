{
 "cells": [
  {
   "cell_type": "code",
   "execution_count": 1,
   "id": "f6b507c2",
   "metadata": {},
   "outputs": [],
   "source": [
    "import numpy as np\n",
    "import pandas as pd\n",
    "import seaborn as sns\n",
    "\n",
    "import matplotlib\n",
    "import matplotlib.pyplot as plt\n",
    "import matplotlib.mlab as mlab\n",
    "plt.style.use('ggplot')\n",
    "from matplotlib.pyplot import figure\n",
    "\n",
    "%matplotlib inline\n",
    "matplotlib.rcParams['figure.figsize'] = (12,8)\n",
    "\n",
    "pd.options.mode.chained_assignment = None"
   ]
  },
  {
   "cell_type": "code",
   "execution_count": 2,
   "id": "84f8ac7e",
   "metadata": {},
   "outputs": [],
   "source": [
    "df =pd.read_csv('data.csv')"
   ]
  },
  {
   "cell_type": "code",
   "execution_count": 3,
   "id": "3d47435c",
   "metadata": {},
   "outputs": [
    {
     "data": {
      "text/html": [
       "<div>\n",
       "<style scoped>\n",
       "    .dataframe tbody tr th:only-of-type {\n",
       "        vertical-align: middle;\n",
       "    }\n",
       "\n",
       "    .dataframe tbody tr th {\n",
       "        vertical-align: top;\n",
       "    }\n",
       "\n",
       "    .dataframe thead th {\n",
       "        text-align: right;\n",
       "    }\n",
       "</style>\n",
       "<table border=\"1\" class=\"dataframe\">\n",
       "  <thead>\n",
       "    <tr style=\"text-align: right;\">\n",
       "      <th></th>\n",
       "      <th>Make</th>\n",
       "      <th>Model</th>\n",
       "      <th>Year</th>\n",
       "      <th>Engine Fuel Type</th>\n",
       "      <th>Engine HP</th>\n",
       "      <th>Engine Cylinders</th>\n",
       "      <th>Transmission Type</th>\n",
       "      <th>Driven_Wheels</th>\n",
       "      <th>Number of Doors</th>\n",
       "      <th>Market Category</th>\n",
       "      <th>Vehicle Size</th>\n",
       "      <th>Vehicle Style</th>\n",
       "      <th>highway MPG</th>\n",
       "      <th>city mpg</th>\n",
       "      <th>Popularity</th>\n",
       "      <th>MSRP</th>\n",
       "    </tr>\n",
       "  </thead>\n",
       "  <tbody>\n",
       "    <tr>\n",
       "      <th>0</th>\n",
       "      <td>BMW</td>\n",
       "      <td>1 Series M</td>\n",
       "      <td>2011</td>\n",
       "      <td>premium unleaded (required)</td>\n",
       "      <td>335.0</td>\n",
       "      <td>6.0</td>\n",
       "      <td>MANUAL</td>\n",
       "      <td>rear wheel drive</td>\n",
       "      <td>2.0</td>\n",
       "      <td>Factory Tuner,Luxury,High-Performance</td>\n",
       "      <td>Compact</td>\n",
       "      <td>Coupe</td>\n",
       "      <td>26</td>\n",
       "      <td>19</td>\n",
       "      <td>3916</td>\n",
       "      <td>46135</td>\n",
       "    </tr>\n",
       "    <tr>\n",
       "      <th>1</th>\n",
       "      <td>BMW</td>\n",
       "      <td>1 Series</td>\n",
       "      <td>2011</td>\n",
       "      <td>premium unleaded (required)</td>\n",
       "      <td>300.0</td>\n",
       "      <td>6.0</td>\n",
       "      <td>MANUAL</td>\n",
       "      <td>rear wheel drive</td>\n",
       "      <td>2.0</td>\n",
       "      <td>Luxury,Performance</td>\n",
       "      <td>Compact</td>\n",
       "      <td>Convertible</td>\n",
       "      <td>28</td>\n",
       "      <td>19</td>\n",
       "      <td>3916</td>\n",
       "      <td>40650</td>\n",
       "    </tr>\n",
       "    <tr>\n",
       "      <th>2</th>\n",
       "      <td>BMW</td>\n",
       "      <td>1 Series</td>\n",
       "      <td>2011</td>\n",
       "      <td>premium unleaded (required)</td>\n",
       "      <td>300.0</td>\n",
       "      <td>6.0</td>\n",
       "      <td>MANUAL</td>\n",
       "      <td>rear wheel drive</td>\n",
       "      <td>2.0</td>\n",
       "      <td>Luxury,High-Performance</td>\n",
       "      <td>Compact</td>\n",
       "      <td>Coupe</td>\n",
       "      <td>28</td>\n",
       "      <td>20</td>\n",
       "      <td>3916</td>\n",
       "      <td>36350</td>\n",
       "    </tr>\n",
       "    <tr>\n",
       "      <th>3</th>\n",
       "      <td>BMW</td>\n",
       "      <td>1 Series</td>\n",
       "      <td>2011</td>\n",
       "      <td>premium unleaded (required)</td>\n",
       "      <td>230.0</td>\n",
       "      <td>6.0</td>\n",
       "      <td>MANUAL</td>\n",
       "      <td>rear wheel drive</td>\n",
       "      <td>2.0</td>\n",
       "      <td>Luxury,Performance</td>\n",
       "      <td>Compact</td>\n",
       "      <td>Coupe</td>\n",
       "      <td>28</td>\n",
       "      <td>18</td>\n",
       "      <td>3916</td>\n",
       "      <td>29450</td>\n",
       "    </tr>\n",
       "    <tr>\n",
       "      <th>4</th>\n",
       "      <td>BMW</td>\n",
       "      <td>1 Series</td>\n",
       "      <td>2011</td>\n",
       "      <td>premium unleaded (required)</td>\n",
       "      <td>230.0</td>\n",
       "      <td>6.0</td>\n",
       "      <td>MANUAL</td>\n",
       "      <td>rear wheel drive</td>\n",
       "      <td>2.0</td>\n",
       "      <td>Luxury</td>\n",
       "      <td>Compact</td>\n",
       "      <td>Convertible</td>\n",
       "      <td>28</td>\n",
       "      <td>18</td>\n",
       "      <td>3916</td>\n",
       "      <td>34500</td>\n",
       "    </tr>\n",
       "  </tbody>\n",
       "</table>\n",
       "</div>"
      ],
      "text/plain": [
       "  Make       Model  Year             Engine Fuel Type  Engine HP  \\\n",
       "0  BMW  1 Series M  2011  premium unleaded (required)      335.0   \n",
       "1  BMW    1 Series  2011  premium unleaded (required)      300.0   \n",
       "2  BMW    1 Series  2011  premium unleaded (required)      300.0   \n",
       "3  BMW    1 Series  2011  premium unleaded (required)      230.0   \n",
       "4  BMW    1 Series  2011  premium unleaded (required)      230.0   \n",
       "\n",
       "   Engine Cylinders Transmission Type     Driven_Wheels  Number of Doors  \\\n",
       "0               6.0            MANUAL  rear wheel drive              2.0   \n",
       "1               6.0            MANUAL  rear wheel drive              2.0   \n",
       "2               6.0            MANUAL  rear wheel drive              2.0   \n",
       "3               6.0            MANUAL  rear wheel drive              2.0   \n",
       "4               6.0            MANUAL  rear wheel drive              2.0   \n",
       "\n",
       "                         Market Category Vehicle Size Vehicle Style  \\\n",
       "0  Factory Tuner,Luxury,High-Performance      Compact         Coupe   \n",
       "1                     Luxury,Performance      Compact   Convertible   \n",
       "2                Luxury,High-Performance      Compact         Coupe   \n",
       "3                     Luxury,Performance      Compact         Coupe   \n",
       "4                                 Luxury      Compact   Convertible   \n",
       "\n",
       "   highway MPG  city mpg  Popularity   MSRP  \n",
       "0           26        19        3916  46135  \n",
       "1           28        19        3916  40650  \n",
       "2           28        20        3916  36350  \n",
       "3           28        18        3916  29450  \n",
       "4           28        18        3916  34500  "
      ]
     },
     "execution_count": 3,
     "metadata": {},
     "output_type": "execute_result"
    }
   ],
   "source": [
    "df.head()"
   ]
  },
  {
   "cell_type": "markdown",
   "id": "030e23cd",
   "metadata": {},
   "source": [
    "# Data Cleaning"
   ]
  },
  {
   "cell_type": "code",
   "execution_count": 4,
   "id": "6bbc7d66",
   "metadata": {},
   "outputs": [],
   "source": [
    "#write the columns names in small letter and replace spaces with under score\n",
    "df.columns=df.columns.str.lower().str.replace(' ','_')"
   ]
  },
  {
   "cell_type": "code",
   "execution_count": 5,
   "id": "2ae054f1",
   "metadata": {},
   "outputs": [
    {
     "data": {
      "text/plain": [
       "make                  object\n",
       "model                 object\n",
       "year                   int64\n",
       "engine_fuel_type      object\n",
       "engine_hp            float64\n",
       "engine_cylinders     float64\n",
       "transmission_type     object\n",
       "driven_wheels         object\n",
       "number_of_doors      float64\n",
       "market_category       object\n",
       "vehicle_size          object\n",
       "vehicle_style         object\n",
       "highway_mpg            int64\n",
       "city_mpg               int64\n",
       "popularity             int64\n",
       "msrp                   int64\n",
       "dtype: object"
      ]
     },
     "execution_count": 5,
     "metadata": {},
     "output_type": "execute_result"
    }
   ],
   "source": [
    "df.dtypes"
   ]
  },
  {
   "cell_type": "code",
   "execution_count": 6,
   "id": "bf4200b7",
   "metadata": {},
   "outputs": [
    {
     "data": {
      "text/plain": [
       "['make',\n",
       " 'model',\n",
       " 'engine_fuel_type',\n",
       " 'transmission_type',\n",
       " 'driven_wheels',\n",
       " 'market_category',\n",
       " 'vehicle_size',\n",
       " 'vehicle_style']"
      ]
     },
     "execution_count": 6,
     "metadata": {},
     "output_type": "execute_result"
    }
   ],
   "source": [
    "strings =list(df.dtypes[df.dtypes=='object'].index)\n",
    "strings"
   ]
  },
  {
   "cell_type": "code",
   "execution_count": 7,
   "id": "f31bcf4d",
   "metadata": {},
   "outputs": [],
   "source": [
    "for col in strings:\n",
    "    df[col] = df[col].str.lower().str.replace(' ','_')"
   ]
  },
  {
   "cell_type": "code",
   "execution_count": 8,
   "id": "309158a9",
   "metadata": {},
   "outputs": [
    {
     "data": {
      "text/html": [
       "<div>\n",
       "<style scoped>\n",
       "    .dataframe tbody tr th:only-of-type {\n",
       "        vertical-align: middle;\n",
       "    }\n",
       "\n",
       "    .dataframe tbody tr th {\n",
       "        vertical-align: top;\n",
       "    }\n",
       "\n",
       "    .dataframe thead th {\n",
       "        text-align: right;\n",
       "    }\n",
       "</style>\n",
       "<table border=\"1\" class=\"dataframe\">\n",
       "  <thead>\n",
       "    <tr style=\"text-align: right;\">\n",
       "      <th></th>\n",
       "      <th>make</th>\n",
       "      <th>model</th>\n",
       "      <th>year</th>\n",
       "      <th>engine_fuel_type</th>\n",
       "      <th>engine_hp</th>\n",
       "      <th>engine_cylinders</th>\n",
       "      <th>transmission_type</th>\n",
       "      <th>driven_wheels</th>\n",
       "      <th>number_of_doors</th>\n",
       "      <th>market_category</th>\n",
       "      <th>vehicle_size</th>\n",
       "      <th>vehicle_style</th>\n",
       "      <th>highway_mpg</th>\n",
       "      <th>city_mpg</th>\n",
       "      <th>popularity</th>\n",
       "      <th>msrp</th>\n",
       "    </tr>\n",
       "  </thead>\n",
       "  <tbody>\n",
       "    <tr>\n",
       "      <th>0</th>\n",
       "      <td>bmw</td>\n",
       "      <td>1_series_m</td>\n",
       "      <td>2011</td>\n",
       "      <td>premium_unleaded_(required)</td>\n",
       "      <td>335.0</td>\n",
       "      <td>6.0</td>\n",
       "      <td>manual</td>\n",
       "      <td>rear_wheel_drive</td>\n",
       "      <td>2.0</td>\n",
       "      <td>factory_tuner,luxury,high-performance</td>\n",
       "      <td>compact</td>\n",
       "      <td>coupe</td>\n",
       "      <td>26</td>\n",
       "      <td>19</td>\n",
       "      <td>3916</td>\n",
       "      <td>46135</td>\n",
       "    </tr>\n",
       "    <tr>\n",
       "      <th>1</th>\n",
       "      <td>bmw</td>\n",
       "      <td>1_series</td>\n",
       "      <td>2011</td>\n",
       "      <td>premium_unleaded_(required)</td>\n",
       "      <td>300.0</td>\n",
       "      <td>6.0</td>\n",
       "      <td>manual</td>\n",
       "      <td>rear_wheel_drive</td>\n",
       "      <td>2.0</td>\n",
       "      <td>luxury,performance</td>\n",
       "      <td>compact</td>\n",
       "      <td>convertible</td>\n",
       "      <td>28</td>\n",
       "      <td>19</td>\n",
       "      <td>3916</td>\n",
       "      <td>40650</td>\n",
       "    </tr>\n",
       "    <tr>\n",
       "      <th>2</th>\n",
       "      <td>bmw</td>\n",
       "      <td>1_series</td>\n",
       "      <td>2011</td>\n",
       "      <td>premium_unleaded_(required)</td>\n",
       "      <td>300.0</td>\n",
       "      <td>6.0</td>\n",
       "      <td>manual</td>\n",
       "      <td>rear_wheel_drive</td>\n",
       "      <td>2.0</td>\n",
       "      <td>luxury,high-performance</td>\n",
       "      <td>compact</td>\n",
       "      <td>coupe</td>\n",
       "      <td>28</td>\n",
       "      <td>20</td>\n",
       "      <td>3916</td>\n",
       "      <td>36350</td>\n",
       "    </tr>\n",
       "    <tr>\n",
       "      <th>3</th>\n",
       "      <td>bmw</td>\n",
       "      <td>1_series</td>\n",
       "      <td>2011</td>\n",
       "      <td>premium_unleaded_(required)</td>\n",
       "      <td>230.0</td>\n",
       "      <td>6.0</td>\n",
       "      <td>manual</td>\n",
       "      <td>rear_wheel_drive</td>\n",
       "      <td>2.0</td>\n",
       "      <td>luxury,performance</td>\n",
       "      <td>compact</td>\n",
       "      <td>coupe</td>\n",
       "      <td>28</td>\n",
       "      <td>18</td>\n",
       "      <td>3916</td>\n",
       "      <td>29450</td>\n",
       "    </tr>\n",
       "    <tr>\n",
       "      <th>4</th>\n",
       "      <td>bmw</td>\n",
       "      <td>1_series</td>\n",
       "      <td>2011</td>\n",
       "      <td>premium_unleaded_(required)</td>\n",
       "      <td>230.0</td>\n",
       "      <td>6.0</td>\n",
       "      <td>manual</td>\n",
       "      <td>rear_wheel_drive</td>\n",
       "      <td>2.0</td>\n",
       "      <td>luxury</td>\n",
       "      <td>compact</td>\n",
       "      <td>convertible</td>\n",
       "      <td>28</td>\n",
       "      <td>18</td>\n",
       "      <td>3916</td>\n",
       "      <td>34500</td>\n",
       "    </tr>\n",
       "  </tbody>\n",
       "</table>\n",
       "</div>"
      ],
      "text/plain": [
       "  make       model  year             engine_fuel_type  engine_hp  \\\n",
       "0  bmw  1_series_m  2011  premium_unleaded_(required)      335.0   \n",
       "1  bmw    1_series  2011  premium_unleaded_(required)      300.0   \n",
       "2  bmw    1_series  2011  premium_unleaded_(required)      300.0   \n",
       "3  bmw    1_series  2011  premium_unleaded_(required)      230.0   \n",
       "4  bmw    1_series  2011  premium_unleaded_(required)      230.0   \n",
       "\n",
       "   engine_cylinders transmission_type     driven_wheels  number_of_doors  \\\n",
       "0               6.0            manual  rear_wheel_drive              2.0   \n",
       "1               6.0            manual  rear_wheel_drive              2.0   \n",
       "2               6.0            manual  rear_wheel_drive              2.0   \n",
       "3               6.0            manual  rear_wheel_drive              2.0   \n",
       "4               6.0            manual  rear_wheel_drive              2.0   \n",
       "\n",
       "                         market_category vehicle_size vehicle_style  \\\n",
       "0  factory_tuner,luxury,high-performance      compact         coupe   \n",
       "1                     luxury,performance      compact   convertible   \n",
       "2                luxury,high-performance      compact         coupe   \n",
       "3                     luxury,performance      compact         coupe   \n",
       "4                                 luxury      compact   convertible   \n",
       "\n",
       "   highway_mpg  city_mpg  popularity   msrp  \n",
       "0           26        19        3916  46135  \n",
       "1           28        19        3916  40650  \n",
       "2           28        20        3916  36350  \n",
       "3           28        18        3916  29450  \n",
       "4           28        18        3916  34500  "
      ]
     },
     "execution_count": 8,
     "metadata": {},
     "output_type": "execute_result"
    }
   ],
   "source": [
    "df.head()"
   ]
  },
  {
   "cell_type": "code",
   "execution_count": 9,
   "id": "d0ed5a7c",
   "metadata": {
    "scrolled": true
   },
   "outputs": [
    {
     "name": "stdout",
     "output_type": "stream",
     "text": [
      "make\n",
      "['bmw' 'audi' 'fiat' 'mercedes-benz' 'chrysler']\n",
      "48\n",
      "\n",
      "model\n",
      "['1_series_m' '1_series' '100' '124_spider' '190-class']\n",
      "914\n",
      "\n",
      "year\n",
      "[2011 2012 2013 1992 1993]\n",
      "28\n",
      "\n",
      "engine_fuel_type\n",
      "['premium_unleaded_(required)' 'regular_unleaded'\n",
      " 'premium_unleaded_(recommended)' 'flex-fuel_(unleaded/e85)' 'diesel']\n",
      "10\n",
      "\n",
      "engine_hp\n",
      "[335. 300. 230. 320. 172.]\n",
      "356\n",
      "\n",
      "engine_cylinders\n",
      "[ 6.  4.  5.  8. 12.]\n",
      "9\n",
      "\n",
      "transmission_type\n",
      "['manual' 'automatic' 'automated_manual' 'direct_drive' 'unknown']\n",
      "5\n",
      "\n",
      "driven_wheels\n",
      "['rear_wheel_drive' 'front_wheel_drive' 'all_wheel_drive'\n",
      " 'four_wheel_drive']\n",
      "4\n",
      "\n",
      "number_of_doors\n",
      "[ 2.  4.  3. nan]\n",
      "3\n",
      "\n",
      "market_category\n",
      "['factory_tuner,luxury,high-performance' 'luxury,performance'\n",
      " 'luxury,high-performance' 'luxury' 'performance']\n",
      "71\n",
      "\n",
      "vehicle_size\n",
      "['compact' 'midsize' 'large']\n",
      "3\n",
      "\n",
      "vehicle_style\n",
      "['coupe' 'convertible' 'sedan' 'wagon' '4dr_hatchback']\n",
      "16\n",
      "\n",
      "highway_mpg\n",
      "[26 28 27 25 24]\n",
      "59\n",
      "\n",
      "city_mpg\n",
      "[19 20 18 17 16]\n",
      "69\n",
      "\n",
      "popularity\n",
      "[3916 3105  819  617 1013]\n",
      "48\n",
      "\n",
      "msrp\n",
      "[46135 40650 36350 29450 34500]\n",
      "6049\n",
      "\n"
     ]
    }
   ],
   "source": [
    "for col in df.columns:\n",
    "    print(col)\n",
    "    print(df[col].unique()[:5])\n",
    "    print(df[col].nunique())\n",
    "    print()"
   ]
  },
  {
   "cell_type": "code",
   "execution_count": 10,
   "id": "e3f0a269",
   "metadata": {},
   "outputs": [
    {
     "data": {
      "text/plain": [
       "make                    0\n",
       "model                   0\n",
       "year                    0\n",
       "engine_fuel_type        3\n",
       "engine_hp              69\n",
       "engine_cylinders       30\n",
       "transmission_type       0\n",
       "driven_wheels           0\n",
       "number_of_doors         6\n",
       "market_category      3742\n",
       "vehicle_size            0\n",
       "vehicle_style           0\n",
       "highway_mpg             0\n",
       "city_mpg                0\n",
       "popularity              0\n",
       "msrp                    0\n",
       "dtype: int64"
      ]
     },
     "execution_count": 10,
     "metadata": {},
     "output_type": "execute_result"
    }
   ],
   "source": [
    "df.isnull().sum()"
   ]
  },
  {
   "cell_type": "code",
   "execution_count": 11,
   "id": "49f0a758",
   "metadata": {},
   "outputs": [],
   "source": [
    "df.fillna(0,inplace=True)\n",
    "df.rename(columns={'msrp': 'price'}, inplace =True)"
   ]
  },
  {
   "cell_type": "code",
   "execution_count": 12,
   "id": "8b7679a8",
   "metadata": {},
   "outputs": [
    {
     "data": {
      "text/plain": [
       "make                 0\n",
       "model                0\n",
       "year                 0\n",
       "engine_fuel_type     0\n",
       "engine_hp            0\n",
       "engine_cylinders     0\n",
       "transmission_type    0\n",
       "driven_wheels        0\n",
       "number_of_doors      0\n",
       "market_category      0\n",
       "vehicle_size         0\n",
       "vehicle_style        0\n",
       "highway_mpg          0\n",
       "city_mpg             0\n",
       "popularity           0\n",
       "price                0\n",
       "dtype: int64"
      ]
     },
     "execution_count": 12,
     "metadata": {},
     "output_type": "execute_result"
    }
   ],
   "source": [
    "df.isnull().sum()"
   ]
  },
  {
   "cell_type": "code",
   "execution_count": 13,
   "id": "e7b66a79",
   "metadata": {},
   "outputs": [
    {
     "data": {
      "text/plain": [
       "automatic           8266\n",
       "manual              2935\n",
       "automated_manual     626\n",
       "direct_drive          68\n",
       "unknown               19\n",
       "Name: transmission_type, dtype: int64"
      ]
     },
     "execution_count": 13,
     "metadata": {},
     "output_type": "execute_result"
    }
   ],
   "source": [
    "df.transmission_type.value_counts()"
   ]
  },
  {
   "cell_type": "code",
   "execution_count": 14,
   "id": "041664a6",
   "metadata": {},
   "outputs": [],
   "source": [
    "# tnaere are missing values in the transmissioin type culumn reolace with mode\n",
    "df['transmission_type'] = df['transmission_type'].replace('unknown','automatic') "
   ]
  },
  {
   "cell_type": "code",
   "execution_count": 15,
   "id": "96cb2927",
   "metadata": {},
   "outputs": [
    {
     "data": {
      "text/plain": [
       "automatic           8285\n",
       "manual              2935\n",
       "automated_manual     626\n",
       "direct_drive          68\n",
       "Name: transmission_type, dtype: int64"
      ]
     },
     "execution_count": 15,
     "metadata": {},
     "output_type": "execute_result"
    }
   ],
   "source": [
    "df.transmission_type.value_counts()"
   ]
  },
  {
   "cell_type": "code",
   "execution_count": 16,
   "id": "bb540a75",
   "metadata": {},
   "outputs": [],
   "source": [
    "numerical_features = df[['year', 'engine_hp', 'engine_cylinders', 'highway_mpg', 'city_mpg' ]]"
   ]
  },
  {
   "cell_type": "code",
   "execution_count": 17,
   "id": "1ec86f5f",
   "metadata": {},
   "outputs": [],
   "source": [
    "corrolation_matrix=numerical_features.corr()"
   ]
  },
  {
   "cell_type": "code",
   "execution_count": 18,
   "id": "464335f2",
   "metadata": {},
   "outputs": [
    {
     "name": "stdout",
     "output_type": "stream",
     "text": [
      "city_mpg     highway_mpg    0.886829\n",
      "highway_mpg  city_mpg       0.886829\n",
      "dtype: float64\n"
     ]
    }
   ],
   "source": [
    "\n",
    "max_corr = corrolation_matrix.abs().unstack().sort_values(ascending=False)\n",
    "top_corr =max_corr[max_corr < 1].head(2)\n",
    "\n",
    "print(top_corr)"
   ]
  },
  {
   "cell_type": "code",
   "execution_count": 19,
   "id": "94fc42f2",
   "metadata": {},
   "outputs": [],
   "source": [
    " mean_price = df['price'].mean()"
   ]
  },
  {
   "cell_type": "code",
   "execution_count": 20,
   "id": "4bca98a8",
   "metadata": {},
   "outputs": [],
   "source": [
    "df['above_average'] = (df['price']>mean_price).astype(int)"
   ]
  },
  {
   "cell_type": "code",
   "execution_count": 21,
   "id": "7575db01",
   "metadata": {},
   "outputs": [
    {
     "data": {
      "text/html": [
       "<div>\n",
       "<style scoped>\n",
       "    .dataframe tbody tr th:only-of-type {\n",
       "        vertical-align: middle;\n",
       "    }\n",
       "\n",
       "    .dataframe tbody tr th {\n",
       "        vertical-align: top;\n",
       "    }\n",
       "\n",
       "    .dataframe thead th {\n",
       "        text-align: right;\n",
       "    }\n",
       "</style>\n",
       "<table border=\"1\" class=\"dataframe\">\n",
       "  <thead>\n",
       "    <tr style=\"text-align: right;\">\n",
       "      <th></th>\n",
       "      <th>make</th>\n",
       "      <th>model</th>\n",
       "      <th>year</th>\n",
       "      <th>engine_fuel_type</th>\n",
       "      <th>engine_hp</th>\n",
       "      <th>engine_cylinders</th>\n",
       "      <th>transmission_type</th>\n",
       "      <th>driven_wheels</th>\n",
       "      <th>number_of_doors</th>\n",
       "      <th>market_category</th>\n",
       "      <th>vehicle_size</th>\n",
       "      <th>vehicle_style</th>\n",
       "      <th>highway_mpg</th>\n",
       "      <th>city_mpg</th>\n",
       "      <th>popularity</th>\n",
       "      <th>price</th>\n",
       "      <th>above_average</th>\n",
       "    </tr>\n",
       "  </thead>\n",
       "  <tbody>\n",
       "    <tr>\n",
       "      <th>0</th>\n",
       "      <td>bmw</td>\n",
       "      <td>1_series_m</td>\n",
       "      <td>2011</td>\n",
       "      <td>premium_unleaded_(required)</td>\n",
       "      <td>335.0</td>\n",
       "      <td>6.0</td>\n",
       "      <td>manual</td>\n",
       "      <td>rear_wheel_drive</td>\n",
       "      <td>2.0</td>\n",
       "      <td>factory_tuner,luxury,high-performance</td>\n",
       "      <td>compact</td>\n",
       "      <td>coupe</td>\n",
       "      <td>26</td>\n",
       "      <td>19</td>\n",
       "      <td>3916</td>\n",
       "      <td>46135</td>\n",
       "      <td>1</td>\n",
       "    </tr>\n",
       "    <tr>\n",
       "      <th>1</th>\n",
       "      <td>bmw</td>\n",
       "      <td>1_series</td>\n",
       "      <td>2011</td>\n",
       "      <td>premium_unleaded_(required)</td>\n",
       "      <td>300.0</td>\n",
       "      <td>6.0</td>\n",
       "      <td>manual</td>\n",
       "      <td>rear_wheel_drive</td>\n",
       "      <td>2.0</td>\n",
       "      <td>luxury,performance</td>\n",
       "      <td>compact</td>\n",
       "      <td>convertible</td>\n",
       "      <td>28</td>\n",
       "      <td>19</td>\n",
       "      <td>3916</td>\n",
       "      <td>40650</td>\n",
       "      <td>1</td>\n",
       "    </tr>\n",
       "    <tr>\n",
       "      <th>2</th>\n",
       "      <td>bmw</td>\n",
       "      <td>1_series</td>\n",
       "      <td>2011</td>\n",
       "      <td>premium_unleaded_(required)</td>\n",
       "      <td>300.0</td>\n",
       "      <td>6.0</td>\n",
       "      <td>manual</td>\n",
       "      <td>rear_wheel_drive</td>\n",
       "      <td>2.0</td>\n",
       "      <td>luxury,high-performance</td>\n",
       "      <td>compact</td>\n",
       "      <td>coupe</td>\n",
       "      <td>28</td>\n",
       "      <td>20</td>\n",
       "      <td>3916</td>\n",
       "      <td>36350</td>\n",
       "      <td>0</td>\n",
       "    </tr>\n",
       "    <tr>\n",
       "      <th>3</th>\n",
       "      <td>bmw</td>\n",
       "      <td>1_series</td>\n",
       "      <td>2011</td>\n",
       "      <td>premium_unleaded_(required)</td>\n",
       "      <td>230.0</td>\n",
       "      <td>6.0</td>\n",
       "      <td>manual</td>\n",
       "      <td>rear_wheel_drive</td>\n",
       "      <td>2.0</td>\n",
       "      <td>luxury,performance</td>\n",
       "      <td>compact</td>\n",
       "      <td>coupe</td>\n",
       "      <td>28</td>\n",
       "      <td>18</td>\n",
       "      <td>3916</td>\n",
       "      <td>29450</td>\n",
       "      <td>0</td>\n",
       "    </tr>\n",
       "    <tr>\n",
       "      <th>4</th>\n",
       "      <td>bmw</td>\n",
       "      <td>1_series</td>\n",
       "      <td>2011</td>\n",
       "      <td>premium_unleaded_(required)</td>\n",
       "      <td>230.0</td>\n",
       "      <td>6.0</td>\n",
       "      <td>manual</td>\n",
       "      <td>rear_wheel_drive</td>\n",
       "      <td>2.0</td>\n",
       "      <td>luxury</td>\n",
       "      <td>compact</td>\n",
       "      <td>convertible</td>\n",
       "      <td>28</td>\n",
       "      <td>18</td>\n",
       "      <td>3916</td>\n",
       "      <td>34500</td>\n",
       "      <td>0</td>\n",
       "    </tr>\n",
       "  </tbody>\n",
       "</table>\n",
       "</div>"
      ],
      "text/plain": [
       "  make       model  year             engine_fuel_type  engine_hp  \\\n",
       "0  bmw  1_series_m  2011  premium_unleaded_(required)      335.0   \n",
       "1  bmw    1_series  2011  premium_unleaded_(required)      300.0   \n",
       "2  bmw    1_series  2011  premium_unleaded_(required)      300.0   \n",
       "3  bmw    1_series  2011  premium_unleaded_(required)      230.0   \n",
       "4  bmw    1_series  2011  premium_unleaded_(required)      230.0   \n",
       "\n",
       "   engine_cylinders transmission_type     driven_wheels  number_of_doors  \\\n",
       "0               6.0            manual  rear_wheel_drive              2.0   \n",
       "1               6.0            manual  rear_wheel_drive              2.0   \n",
       "2               6.0            manual  rear_wheel_drive              2.0   \n",
       "3               6.0            manual  rear_wheel_drive              2.0   \n",
       "4               6.0            manual  rear_wheel_drive              2.0   \n",
       "\n",
       "                         market_category vehicle_size vehicle_style  \\\n",
       "0  factory_tuner,luxury,high-performance      compact         coupe   \n",
       "1                     luxury,performance      compact   convertible   \n",
       "2                luxury,high-performance      compact         coupe   \n",
       "3                     luxury,performance      compact         coupe   \n",
       "4                                 luxury      compact   convertible   \n",
       "\n",
       "   highway_mpg  city_mpg  popularity  price  above_average  \n",
       "0           26        19        3916  46135              1  \n",
       "1           28        19        3916  40650              1  \n",
       "2           28        20        3916  36350              0  \n",
       "3           28        18        3916  29450              0  \n",
       "4           28        18        3916  34500              0  "
      ]
     },
     "execution_count": 21,
     "metadata": {},
     "output_type": "execute_result"
    }
   ],
   "source": [
    "df.head()"
   ]
  },
  {
   "cell_type": "markdown",
   "id": "07e5f1e3",
   "metadata": {},
   "source": [
    "# Setting up Validation Frame Work"
   ]
  },
  {
   "cell_type": "code",
   "execution_count": 22,
   "id": "420a78fb",
   "metadata": {},
   "outputs": [],
   "source": [
    "# perfom train/validation/test using sklearn\n",
    "from sklearn.model_selection import train_test_split"
   ]
  },
  {
   "cell_type": "code",
   "execution_count": 23,
   "id": "bcd80728",
   "metadata": {},
   "outputs": [],
   "source": [
    "# divide the data into train,validation,test\n",
    "df_full_train, df_test =train_test_split(df, test_size = 0.2, random_state=42 )"
   ]
  },
  {
   "cell_type": "code",
   "execution_count": 24,
   "id": "e1cc6bd3",
   "metadata": {},
   "outputs": [
    {
     "data": {
      "text/plain": [
       "(9531, 2383)"
      ]
     },
     "execution_count": 24,
     "metadata": {},
     "output_type": "execute_result"
    }
   ],
   "source": [
    "len(df_full_train), len(df_test)"
   ]
  },
  {
   "cell_type": "code",
   "execution_count": 25,
   "id": "da950120",
   "metadata": {},
   "outputs": [],
   "source": [
    "df_train, df_val = train_test_split(df_full_train, test_size=0.25, random_state=42)"
   ]
  },
  {
   "cell_type": "code",
   "execution_count": 26,
   "id": "589479d2",
   "metadata": {},
   "outputs": [
    {
     "data": {
      "text/plain": [
       "(7148, 2383, 2383)"
      ]
     },
     "execution_count": 26,
     "metadata": {},
     "output_type": "execute_result"
    }
   ],
   "source": [
    "len(df_train), len(df_val), len(df_test)"
   ]
  },
  {
   "cell_type": "code",
   "execution_count": 27,
   "id": "be5189b4",
   "metadata": {},
   "outputs": [],
   "source": [
    "df_train = df_train.reset_index(drop=True)\n",
    "df_val = df_val.reset_index(drop=True)\n",
    "df_train = df_test.reset_index(drop=True)"
   ]
  },
  {
   "cell_type": "code",
   "execution_count": 28,
   "id": "2d417205",
   "metadata": {},
   "outputs": [],
   "source": [
    "y_train = df_train.above_average.values\n",
    "y_val = df_val.above_average.values\n",
    "y_test = df_test.above_average.values"
   ]
  },
  {
   "cell_type": "code",
   "execution_count": 29,
   "id": "60b86af4",
   "metadata": {},
   "outputs": [],
   "source": [
    "del df_train['above_average']\n",
    "del df_test['above_average']\n",
    "del df_val['above_average']"
   ]
  },
  {
   "cell_type": "code",
   "execution_count": 30,
   "id": "85dd8c3f",
   "metadata": {},
   "outputs": [],
   "source": [
    "del df_train['price']\n",
    "del df_val['price']\n",
    "del df_test['price']"
   ]
  },
  {
   "cell_type": "markdown",
   "id": "b2690772",
   "metadata": {},
   "source": [
    "# Data Analysis"
   ]
  },
  {
   "cell_type": "code",
   "execution_count": 31,
   "id": "f57f2c1a",
   "metadata": {},
   "outputs": [],
   "source": [
    "df_full_train = df_full_train.reset_index(drop=True)"
   ]
  },
  {
   "cell_type": "code",
   "execution_count": 32,
   "id": "10724f62",
   "metadata": {},
   "outputs": [
    {
     "data": {
      "text/plain": [
       "0    0.723219\n",
       "1    0.276781\n",
       "Name: above_average, dtype: float64"
      ]
     },
     "execution_count": 32,
     "metadata": {},
     "output_type": "execute_result"
    }
   ],
   "source": [
    "# calculate the global churn rate\n",
    "df_full_train.above_average.value_counts(normalize = True)"
   ]
  },
  {
   "cell_type": "code",
   "execution_count": 33,
   "id": "b78410cc",
   "metadata": {},
   "outputs": [
    {
     "data": {
      "text/plain": [
       "0.28"
      ]
     },
     "execution_count": 33,
     "metadata": {},
     "output_type": "execute_result"
    }
   ],
   "source": [
    "global_above_average_rate = df_full_train.above_average.mean()\n",
    "round(global_above_average_rate, 2)"
   ]
  },
  {
   "cell_type": "code",
   "execution_count": 34,
   "id": "953bfceb",
   "metadata": {},
   "outputs": [
    {
     "data": {
      "text/plain": [
       "make                  object\n",
       "model                 object\n",
       "year                   int64\n",
       "engine_fuel_type      object\n",
       "engine_hp            float64\n",
       "engine_cylinders     float64\n",
       "transmission_type     object\n",
       "driven_wheels         object\n",
       "number_of_doors      float64\n",
       "market_category       object\n",
       "vehicle_size          object\n",
       "vehicle_style         object\n",
       "highway_mpg            int64\n",
       "city_mpg               int64\n",
       "popularity             int64\n",
       "price                  int64\n",
       "above_average          int32\n",
       "dtype: object"
      ]
     },
     "execution_count": 34,
     "metadata": {},
     "output_type": "execute_result"
    }
   ],
   "source": [
    "df_full_train.dtypes"
   ]
  },
  {
   "cell_type": "code",
   "execution_count": 35,
   "id": "7d0a7423",
   "metadata": {},
   "outputs": [
    {
     "data": {
      "text/plain": [
       "Index(['make', 'model', 'year', 'engine_fuel_type', 'engine_hp',\n",
       "       'engine_cylinders', 'transmission_type', 'driven_wheels',\n",
       "       'number_of_doors', 'market_category', 'vehicle_size', 'vehicle_style',\n",
       "       'highway_mpg', 'city_mpg', 'popularity', 'price', 'above_average'],\n",
       "      dtype='object')"
      ]
     },
     "execution_count": 35,
     "metadata": {},
     "output_type": "execute_result"
    }
   ],
   "source": [
    "df_full_train.columns"
   ]
  },
  {
   "cell_type": "code",
   "execution_count": 36,
   "id": "2de45279",
   "metadata": {},
   "outputs": [],
   "source": [
    "categorical = ['make','model','engine_fuel_type', 'transmission_type','driven_wheels',\n",
    "               'market_category', 'vehicle_size', 'vehicle_style', 'year','number_of_doors',]"
   ]
  },
  {
   "cell_type": "code",
   "execution_count": 37,
   "id": "b4c96521",
   "metadata": {},
   "outputs": [],
   "source": [
    "numerical = ['popularity', 'highway_mpg', 'city_mpg', 'engine_cylinders', 'engine_hp' ]"
   ]
  },
  {
   "cell_type": "code",
   "execution_count": 38,
   "id": "e6bae971",
   "metadata": {},
   "outputs": [],
   "source": [
    "categorical_features =['make','model','transmission_type','vehicle_style','year','vehicle_size','driven_wheels']"
   ]
  },
  {
   "cell_type": "markdown",
   "id": "1725e793",
   "metadata": {},
   "source": [
    "# Mutual Information"
   ]
  },
  {
   "cell_type": "code",
   "execution_count": 39,
   "id": "8733de8c",
   "metadata": {},
   "outputs": [],
   "source": [
    "# mutual information : concept from information theory that tells us how much we can learn about one variable if we know\n",
    "#the value of another\n",
    "from sklearn.metrics import mutual_info_score"
   ]
  },
  {
   "cell_type": "code",
   "execution_count": 40,
   "id": "d5fb2cd4",
   "metadata": {},
   "outputs": [
    {
     "data": {
      "text/plain": [
       "0.2387236479073192"
      ]
     },
     "execution_count": 40,
     "metadata": {},
     "output_type": "execute_result"
    }
   ],
   "source": [
    "mutual_info_score(df_full_train.above_average, df_full_train.make)"
   ]
  },
  {
   "cell_type": "code",
   "execution_count": 41,
   "id": "bd5c4d2c",
   "metadata": {},
   "outputs": [
    {
     "data": {
      "text/plain": [
       "0.46099440756035703"
      ]
     },
     "execution_count": 41,
     "metadata": {},
     "output_type": "execute_result"
    }
   ],
   "source": [
    "mutual_info_score(df_full_train.above_average, df_full_train.model)"
   ]
  },
  {
   "cell_type": "code",
   "execution_count": 42,
   "id": "ffc49bab",
   "metadata": {},
   "outputs": [
    {
     "data": {
      "text/plain": [
       "0.020261528648380385"
      ]
     },
     "execution_count": 42,
     "metadata": {},
     "output_type": "execute_result"
    }
   ],
   "source": [
    "mutual_info_score(df_full_train.above_average, df_full_train.transmission_type)"
   ]
  },
  {
   "cell_type": "code",
   "execution_count": 43,
   "id": "27d9bf8c",
   "metadata": {},
   "outputs": [
    {
     "data": {
      "text/plain": [
       "0.08339022741593435"
      ]
     },
     "execution_count": 43,
     "metadata": {},
     "output_type": "execute_result"
    }
   ],
   "source": [
    "mutual_info_score(df_full_train.above_average, df_full_train.vehicle_style)"
   ]
  },
  {
   "cell_type": "code",
   "execution_count": 44,
   "id": "4c608165",
   "metadata": {},
   "outputs": [
    {
     "data": {
      "text/plain": [
       "0.08339022741593435"
      ]
     },
     "execution_count": 44,
     "metadata": {},
     "output_type": "execute_result"
    }
   ],
   "source": [
    "mutual_info_score(df_full_train.above_average, df_full_train.vehicle_style)"
   ]
  },
  {
   "cell_type": "code",
   "execution_count": 45,
   "id": "23a07580",
   "metadata": {},
   "outputs": [],
   "source": [
    "# apply mutual info to the whole data\n",
    "def mutual_info_above_average_score(series):\n",
    "    return mutual_info_score(series, df_full_train.above_average)"
   ]
  },
  {
   "cell_type": "code",
   "execution_count": 46,
   "id": "d9b9c8c5",
   "metadata": {},
   "outputs": [],
   "source": [
    "mi = df_full_train[categorical_features].apply(mutual_info_above_average_score)"
   ]
  },
  {
   "cell_type": "code",
   "execution_count": 47,
   "id": "63227356",
   "metadata": {},
   "outputs": [
    {
     "data": {
      "text/plain": [
       "model                0.460994\n",
       "make                 0.238724\n",
       "driven_wheels        0.104139\n",
       "vehicle_style        0.083390\n",
       "year                 0.073605\n",
       "vehicle_size         0.042072\n",
       "transmission_type    0.020262\n",
       "dtype: float64"
      ]
     },
     "execution_count": 47,
     "metadata": {},
     "output_type": "execute_result"
    }
   ],
   "source": [
    "# sort by des\n",
    "mi.sort_values(ascending = False)"
   ]
  },
  {
   "cell_type": "markdown",
   "id": "544c245c",
   "metadata": {},
   "source": [
    "# One hot Encoding"
   ]
  },
  {
   "cell_type": "code",
   "execution_count": 48,
   "id": "9e8497ca",
   "metadata": {},
   "outputs": [],
   "source": [
    "# use one hot encoding for categorical variables\n",
    "from sklearn.feature_extraction import DictVectorizer"
   ]
  },
  {
   "cell_type": "code",
   "execution_count": 49,
   "id": "1c22e131",
   "metadata": {},
   "outputs": [],
   "source": [
    "train_dicts = df_train.to_dict(orient='records')"
   ]
  },
  {
   "cell_type": "code",
   "execution_count": 50,
   "id": "933fbbc8",
   "metadata": {},
   "outputs": [
    {
     "data": {
      "text/plain": [
       "{'make': 'gmc',\n",
       " 'model': 'envoy_xl',\n",
       " 'year': 2005,\n",
       " 'engine_fuel_type': 'regular_unleaded',\n",
       " 'engine_hp': 275.0,\n",
       " 'engine_cylinders': 6.0,\n",
       " 'transmission_type': 'automatic',\n",
       " 'driven_wheels': 'rear_wheel_drive',\n",
       " 'number_of_doors': 4.0,\n",
       " 'market_category': 0,\n",
       " 'vehicle_size': 'large',\n",
       " 'vehicle_style': '4dr_suv',\n",
       " 'highway_mpg': 18,\n",
       " 'city_mpg': 13,\n",
       " 'popularity': 549}"
      ]
     },
     "execution_count": 50,
     "metadata": {},
     "output_type": "execute_result"
    }
   ],
   "source": [
    "train_dicts[0]"
   ]
  },
  {
   "cell_type": "code",
   "execution_count": 51,
   "id": "35881b43",
   "metadata": {},
   "outputs": [],
   "source": [
    "dv = DictVectorizer(sparse=False)"
   ]
  },
  {
   "cell_type": "code",
   "execution_count": 52,
   "id": "30bff61c",
   "metadata": {},
   "outputs": [],
   "source": [
    "X_train = dv.fit_transform(train_dicts)"
   ]
  },
  {
   "cell_type": "code",
   "execution_count": 53,
   "id": "fb476962",
   "metadata": {},
   "outputs": [],
   "source": [
    "val_dicts = df_val.to_dict(orient='records')"
   ]
  },
  {
   "cell_type": "code",
   "execution_count": 54,
   "id": "8ea137c6",
   "metadata": {},
   "outputs": [],
   "source": [
    "X_val = dv.transform(val_dicts)"
   ]
  },
  {
   "cell_type": "markdown",
   "id": "e1be893b",
   "metadata": {},
   "source": [
    "# Logistic Regression"
   ]
  },
  {
   "cell_type": "code",
   "execution_count": 55,
   "id": "5241746e",
   "metadata": {},
   "outputs": [],
   "source": [
    "from sklearn.linear_model import LogisticRegression"
   ]
  },
  {
   "cell_type": "code",
   "execution_count": 56,
   "id": "7a6b275e",
   "metadata": {},
   "outputs": [],
   "source": [
    "model = LogisticRegression(solver='liblinear', C=10, max_iter=1000, random_state=42)"
   ]
  },
  {
   "cell_type": "code",
   "execution_count": 57,
   "id": "0a967332",
   "metadata": {},
   "outputs": [
    {
     "data": {
      "text/plain": [
       "LogisticRegression(C=10, max_iter=1000, random_state=42, solver='liblinear')"
      ]
     },
     "execution_count": 57,
     "metadata": {},
     "output_type": "execute_result"
    }
   ],
   "source": [
    "model.fit(X_train, y_train)"
   ]
  },
  {
   "cell_type": "code",
   "execution_count": 58,
   "id": "9b989d09",
   "metadata": {},
   "outputs": [
    {
     "data": {
      "text/plain": [
       "-0.24616819013863156"
      ]
     },
     "execution_count": 58,
     "metadata": {},
     "output_type": "execute_result"
    }
   ],
   "source": [
    "model.intercept_[0]"
   ]
  },
  {
   "cell_type": "code",
   "execution_count": 59,
   "id": "f7c24427",
   "metadata": {},
   "outputs": [
    {
     "data": {
      "text/plain": [
       "array([ 1.000e-02,  6.170e-01,  2.650e-01, -5.540e-01, -5.740e-01,\n",
       "       -4.170e-01,  8.670e-01,  1.242e+00,  9.500e-02,  1.240e-01,\n",
       "       -2.768e+00,  4.666e+00, -1.232e+00, -4.030e-01, -2.836e+00,\n",
       "        5.000e-02,  8.300e-02,  1.054e+00,  8.630e-01,  2.873e+00,\n",
       "        1.010e-01,  1.061e+00,  3.900e-02,  2.677e+00, -1.032e+00,\n",
       "       -5.760e-01, -3.340e+00,  7.460e-01, -1.940e-01, -1.844e+00,\n",
       "       -4.850e-01, -1.391e+00, -4.790e-01, -1.951e+00, -1.082e+00,\n",
       "        2.580e-01,  2.000e-03,  1.598e+00,  2.107e+00,  1.487e+00,\n",
       "        1.400e-02,  9.620e-01,  0.000e+00, -2.347e+00,  0.000e+00,\n",
       "        4.460e-01, -1.055e+00,  9.500e-02, -8.130e-01, -2.300e-02,\n",
       "       -1.833e+00,  1.683e+00,  1.156e+00, -5.010e-01, -1.020e-01,\n",
       "       -3.019e+00, -1.064e+00,  9.110e-01,  7.260e-01, -1.310e-01,\n",
       "        2.157e+00,  0.000e+00,  6.360e-01,  1.521e+00,  0.000e+00,\n",
       "        4.000e-02, -6.200e-02,  3.870e-01, -3.100e-02,  7.000e-03,\n",
       "       -7.320e-01, -1.610e-01,  1.856e+00, -1.500e-02,  9.790e-01,\n",
       "        2.930e-01, -2.400e-02,  0.000e+00,  1.785e+00, -9.490e-01,\n",
       "       -1.184e+00,  9.410e-01,  1.003e+00,  6.290e-01,  1.100e-02,\n",
       "        6.800e-02,  0.000e+00,  0.000e+00,  1.774e+00,  1.156e+00,\n",
       "        9.860e-01,  2.800e-02,  1.330e-01,  6.470e-01,  0.000e+00,\n",
       "        3.000e+00, -1.274e+00, -2.455e+00, -8.320e-01, -3.350e-01,\n",
       "        0.000e+00, -7.000e-02,  2.407e+00,  2.328e+00,  1.560e-01,\n",
       "        8.650e-01, -3.107e+00, -4.300e-02, -6.340e-01, -4.400e-02,\n",
       "       -2.200e-01, -2.000e-03, -1.000e-02,  3.300e-02, -3.300e-01,\n",
       "       -4.540e-01, -2.339e+00,  1.562e+00,  5.830e-01,  2.311e+00,\n",
       "        3.950e-01,  1.065e+00,  6.200e-01,  1.140e-01, -4.540e-01,\n",
       "       -2.410e-01, -1.660e-01, -2.100e-02, -1.000e-03, -2.730e+00,\n",
       "        2.790e-01, -0.000e+00, -9.980e-01, -1.000e-03, -5.000e-03,\n",
       "       -1.000e-03, -1.041e+00, -2.200e-02,  6.190e-01, -1.800e-01,\n",
       "       -1.000e-03, -3.000e-02, -0.000e+00, -5.400e-02,  2.216e+00,\n",
       "        5.150e-01,  3.890e-01, -6.360e-01, -6.650e-01,  2.150e-01,\n",
       "        1.000e-03,  3.282e+00,  2.335e+00,  6.460e-01, -2.000e-03,\n",
       "       -2.400e-02, -1.298e+00, -4.300e-02, -1.060e-01,  0.000e+00,\n",
       "        2.000e-03,  0.000e+00,  1.760e-01,  3.000e-03, -1.700e-02,\n",
       "       -2.123e+00, -1.000e-03,  0.000e+00,  0.000e+00, -0.000e+00,\n",
       "        0.000e+00,  6.400e-02,  3.610e-01, -2.500e-02, -7.000e-03,\n",
       "       -1.000e-03,  6.600e-02, -2.010e-01, -2.900e-02, -4.150e-01,\n",
       "       -6.430e-01, -2.740e-01, -1.051e+00,  1.510e+00, -1.700e-02,\n",
       "       -4.200e-02, -1.000e-03,  1.570e-01, -2.600e-01, -2.000e-02,\n",
       "       -6.300e-02, -7.050e-01, -4.630e-01, -5.080e-01,  3.990e-01,\n",
       "        9.290e-01,  1.333e+00,  4.600e-02,  2.268e+00, -3.000e-03,\n",
       "       -2.630e-01, -5.900e-02, -1.830e-01, -2.000e-03, -5.000e-03,\n",
       "       -2.303e+00,  9.650e-01, -5.370e-01,  0.000e+00, -2.440e-01,\n",
       "       -2.700e-02, -6.300e-02,  3.000e-03,  0.000e+00,  3.100e-02,\n",
       "       -0.000e+00, -4.000e-03,  9.150e-01,  4.000e-03, -7.260e-01,\n",
       "       -4.170e-01, -7.880e-01, -4.210e-01,  2.622e+00, -3.400e-02,\n",
       "        0.000e+00, -0.000e+00,  8.630e-01, -1.000e-03, -6.500e-02,\n",
       "       -1.100e-02, -0.000e+00, -1.000e-03, -0.000e+00, -7.680e-01,\n",
       "       -6.400e-02, -8.400e-02, -1.486e+00,  6.410e-01, -6.000e-03,\n",
       "       -1.503e+00, -6.370e-01,  4.600e-02, -1.160e-01, -2.000e-03,\n",
       "       -3.000e-03, -2.000e-02,  3.434e+00, -1.600e-02, -7.100e-02,\n",
       "       -7.400e-02, -2.000e-03, -1.540e-01,  2.652e+00, -1.000e-03,\n",
       "        2.000e-03, -2.498e+00, -3.800e-02, -9.100e-02, -3.910e-01,\n",
       "       -3.700e-01, -1.680e-01, -2.100e-02, -1.000e-03,  0.000e+00,\n",
       "       -4.920e-01, -4.200e-02, -1.000e-03,  4.860e-01,  1.537e+00,\n",
       "       -7.400e-02, -1.000e-03, -2.000e-03, -3.430e+00, -7.730e-01,\n",
       "       -1.000e-03, -2.000e-03, -1.000e-03, -0.000e+00, -2.700e-02,\n",
       "       -0.000e+00, -0.000e+00,  2.000e-03, -1.061e+00,  1.300e-02,\n",
       "        4.910e-01, -8.200e-02, -3.290e-01, -0.000e+00, -9.200e-02,\n",
       "       -1.354e+00,  1.000e-03,  0.000e+00,  0.000e+00,  0.000e+00,\n",
       "        0.000e+00, -1.000e-03, -0.000e+00, -1.600e-02, -0.000e+00,\n",
       "       -0.000e+00,  2.329e+00,  8.520e-01, -9.300e-02, -1.000e-03,\n",
       "       -3.000e-03,  1.497e+00, -5.000e-02, -3.300e-02, -4.000e-03,\n",
       "       -2.000e-03,  0.000e+00,  7.140e-01, -3.390e-01,  1.799e+00,\n",
       "       -2.000e-03, -7.000e-03, -1.000e-03, -2.000e-03, -2.000e-03,\n",
       "       -1.000e-03, -5.000e-03, -6.800e-02, -2.420e-01, -1.648e+00,\n",
       "       -2.600e-02, -5.000e-03, -1.000e-03,  7.240e-01,  3.000e-03,\n",
       "        1.000e-03,  1.000e-03, -2.800e-02, -1.134e+00, -2.220e-01,\n",
       "        1.331e+00,  1.906e+00,  1.895e+00, -0.000e+00, -7.000e-03,\n",
       "       -0.000e+00,  2.014e+00, -6.250e-01, -4.000e-03, -1.400e-02,\n",
       "       -1.000e-03, -6.100e-02, -8.000e-03, -8.040e-01, -9.000e-02,\n",
       "       -5.000e-03, -1.000e-03, -1.000e-03, -0.000e+00, -5.960e-01,\n",
       "       -1.000e-03, -2.700e-02,  2.720e+00, -4.700e-02, -9.000e-03,\n",
       "        1.342e+00, -9.380e-01, -2.071e+00, -6.830e-01,  0.000e+00,\n",
       "        1.712e+00, -1.110e-01, -3.800e-02,  2.800e-02, -2.000e-03,\n",
       "       -5.600e-02, -1.720e-01, -1.250e+00,  4.000e-03,  1.900e-02,\n",
       "        7.000e-03,  8.100e-02, -1.050e-01, -5.700e-02, -0.000e+00,\n",
       "       -2.000e-03, -3.000e-03, -1.730e-01,  1.400e-02, -2.476e+00,\n",
       "       -2.201e+00, -0.000e+00,  1.337e+00,  5.900e-01, -2.000e-03,\n",
       "       -9.000e-02, -0.000e+00, -2.650e-01,  4.170e-01, -7.000e-03,\n",
       "       -2.000e-03, -1.200e-02,  1.000e-02, -3.000e-03, -3.090e-01,\n",
       "       -1.000e-03, -8.000e-03, -1.200e-02, -3.530e-01, -1.770e-01,\n",
       "        0.000e+00, -1.000e-02, -2.000e-03, -1.150e+00, -2.800e-02,\n",
       "       -0.000e+00, -9.400e-02, -4.400e-02, -3.000e-03, -1.290e-01,\n",
       "       -6.380e-01, -4.700e-02, -3.800e-02,  1.042e+00,  1.400e-02,\n",
       "       -1.000e-03, -9.540e-01, -1.174e+00, -1.596e+00, -1.615e+00,\n",
       "       -1.000e-03, -2.300e-02, -4.200e-02,  3.130e-01,  9.000e-03,\n",
       "        1.890e-01, -1.000e-03,  2.000e-03, -1.468e+00, -2.900e-01,\n",
       "        9.000e-03,  0.000e+00,  2.490e-01, -1.337e+00, -1.380e+00,\n",
       "        6.880e-01,  4.000e-02, -5.300e-02, -1.629e+00,  5.000e-03,\n",
       "       -1.500e-02, -3.100e-02, -9.900e-02, -6.340e-01, -1.100e-02,\n",
       "       -2.000e-03, -6.600e-02, -1.900e-02, -2.500e-02, -1.400e-02,\n",
       "        2.000e-03,  7.000e-03,  3.100e-01, -6.030e-01,  1.137e+00,\n",
       "        1.140e-01,  1.000e-03, -1.540e-01, -8.040e-01,  6.240e-01,\n",
       "       -4.260e-01, -5.300e-02, -3.000e-03,  2.160e-01,  1.456e+00,\n",
       "       -2.400e-02, -6.600e-02,  0.000e+00, -3.000e-03,  4.000e-02,\n",
       "       -4.170e-01, -0.000e+00,  1.616e+00, -8.470e-01, -2.000e-03,\n",
       "       -1.500e-02, -5.370e-01, -1.000e-03, -4.000e-03, -2.300e-02,\n",
       "       -7.000e-03, -0.000e+00,  1.815e+00, -1.934e+00,  2.080e-01,\n",
       "        5.900e-02,  1.500e-02, -3.000e-03, -1.430e-01, -8.900e-02,\n",
       "       -7.070e-01, -3.050e-01, -2.400e-02, -5.350e-01, -6.500e-02,\n",
       "       -0.000e+00,  9.330e-01, -7.000e-03, -2.370e-01, -1.200e-02,\n",
       "       -3.350e-01, -1.000e-03,  3.210e-01, -3.000e-03, -5.000e-03,\n",
       "       -0.000e+00, -2.900e-02, -1.900e-02, -2.500e-02, -8.600e-02,\n",
       "       -0.000e+00, -1.338e+00,  3.900e-02, -1.609e+00, -5.100e-01,\n",
       "        5.010e-01,  1.000e-03, -2.900e-02, -1.000e-03, -4.420e-01,\n",
       "       -1.590e-01,  2.140e+00,  5.140e-01,  6.560e-01, -1.000e-03,\n",
       "        1.322e+00,  6.330e-01,  4.000e-03,  0.000e+00, -1.040e-01,\n",
       "       -1.740e-01, -1.000e-03, -4.000e-03,  1.253e+00, -1.024e+00,\n",
       "       -2.000e-03, -3.950e-01,  0.000e+00, -2.000e-02, -1.290e-01,\n",
       "        1.800e+00, -0.000e+00, -0.000e+00,  6.700e-01, -2.610e+00,\n",
       "        5.290e-01,  2.003e+00,  3.680e-01, -1.138e+00,  9.110e-01,\n",
       "       -0.000e+00, -7.000e-03, -9.000e-03, -1.500e-02, -2.000e-03,\n",
       "       -6.000e-03,  1.000e-03, -1.819e+00,  0.000e+00, -2.361e+00,\n",
       "       -2.000e-02, -0.000e+00, -0.000e+00,  2.700e-02, -9.000e-03,\n",
       "       -2.000e-02, -3.000e-02, -8.700e-02, -3.300e-02, -0.000e+00,\n",
       "       -0.000e+00, -3.694e+00,  2.580e-01, -5.950e-01, -1.840e-01,\n",
       "       -2.400e-01, -1.900e-01, -5.490e-01, -3.600e-02, -1.468e+00,\n",
       "        6.300e-02, -5.840e-01,  1.156e+00, -0.000e+00, -1.670e-01,\n",
       "       -2.700e-02, -1.721e+00,  2.230e-01, -0.000e+00,  3.800e-02,\n",
       "       -3.000e-03, -1.300e-02, -3.000e-03, -0.000e+00, -4.000e-03,\n",
       "       -2.900e-02, -1.000e-03, -0.000e+00, -0.000e+00, -0.000e+00,\n",
       "       -3.000e-03, -0.000e+00, -1.240e+00,  1.877e+00,  3.080e-01,\n",
       "        8.170e-01,  2.827e+00,  3.800e-02,  2.640e-01,  3.000e-03,\n",
       "        4.152e+00,  3.300e-02, -2.160e-01, -2.890e+00,  1.639e+00,\n",
       "        4.900e-02,  7.440e-01, -2.900e-02,  1.000e-03, -2.000e-03,\n",
       "       -4.000e-03, -3.860e-01, -1.000e-03, -1.000e-03, -2.000e-03,\n",
       "       -0.000e+00, -5.000e-03, -1.730e-01, -4.000e-03, -1.000e-03,\n",
       "       -5.000e-03,  7.900e-02,  2.585e+00,  3.020e-01, -1.000e-03,\n",
       "        2.000e-03,  0.000e+00, -2.750e-01,  3.557e+00, -3.790e-01,\n",
       "        8.970e-01,  1.000e-03, -1.636e+00, -2.300e-02, -9.500e-01,\n",
       "       -2.900e-02, -1.400e-02, -6.700e-02, -5.000e-03, -1.240e-01,\n",
       "        9.580e-01,  1.504e+00, -5.990e-01, -1.360e-01, -4.300e-02,\n",
       "       -6.300e-02,  0.000e+00,  1.000e-03,  0.000e+00, -4.900e-02,\n",
       "       -6.000e-03, -4.600e-02, -4.400e-01, -6.460e-01,  2.429e+00,\n",
       "        1.392e+00,  1.350e-01, -3.000e-03, -3.000e-03, -0.000e+00,\n",
       "       -2.000e-03,  0.000e+00,  6.600e-02,  1.050e-01, -9.200e-01,\n",
       "        1.450e-01, -1.409e+00, -1.100e-01,  9.430e-01,  3.400e-01,\n",
       "       -2.900e-02, -2.900e-02,  8.000e-01, -5.410e-01, -3.250e-01,\n",
       "       -1.750e-01, -3.950e-01, -0.000e+00, -1.600e-02, -3.750e-01,\n",
       "       -0.000e+00,  4.620e-01, -0.000e+00,  3.900e-02,  0.000e+00,\n",
       "       -0.000e+00, -1.030e+00,  1.769e+00, -9.420e-01, -3.070e-01,\n",
       "       -7.250e-01, -8.000e-03,  1.530e+00, -7.180e-01, -3.000e-03,\n",
       "        2.900e-02,  6.950e-01,  2.310e+00,  0.000e+00,  0.000e+00,\n",
       "       -1.580e-01, -5.370e-01, -4.400e-02, -3.800e-02, -5.000e-03,\n",
       "       -4.000e-03,  5.640e-01, -8.000e-03, -2.080e-01, -8.860e-01,\n",
       "       -4.000e-03, -0.000e+00, -1.164e+00, -9.000e-03,  8.900e-02,\n",
       "        0.000e+00,  1.200e-02,  9.040e-01, -0.000e+00, -1.000e-03,\n",
       "       -1.000e-03,  3.510e-01,  3.380e-01, -1.000e-03, -0.000e+00,\n",
       "       -1.000e-03, -2.880e-01, -1.000e-02, -0.000e+00, -3.000e-03,\n",
       "       -3.000e-03, -1.681e+00,  2.360e-01,  6.020e-01, -1.670e+00,\n",
       "       -2.860e-01, -1.400e-02, -0.000e+00, -0.000e+00, -2.040e-01,\n",
       "       -3.100e-02, -5.110e-01, -1.000e-03, -6.700e-01, -8.990e-01,\n",
       "       -1.856e+00,  6.960e-01, -1.100e-02, -7.400e-02,  2.223e+00,\n",
       "        1.352e+00, -7.000e-02,  2.491e+00, -6.000e-03, -2.037e+00,\n",
       "       -1.000e-02,  2.146e+00,  6.890e-01, -1.700e-02, -1.040e-01,\n",
       "       -1.500e-02, -0.000e+00, -1.613e+00,  1.625e+00, -8.000e-02,\n",
       "       -2.806e+00, -1.000e-02,  6.000e-03,  1.400e-02,  1.243e+00,\n",
       "       -1.273e+00,  1.130e-01, -1.000e-03, -9.000e-03,  0.000e+00,\n",
       "       -3.000e-03, -8.000e-03, -6.830e-01, -2.280e-01, -0.000e+00,\n",
       "       -1.000e-03, -1.000e-03, -2.000e-03, -2.000e-03, -2.000e-03,\n",
       "       -5.000e-03, -1.870e-01, -0.000e+00, -1.038e+00,  2.950e-01,\n",
       "        0.000e+00,  3.000e-01,  0.000e+00, -0.000e+00, -5.000e-03,\n",
       "        1.914e+00,  1.565e+00,  2.570e-01, -0.000e+00, -1.000e-03,\n",
       "       -1.000e-03, -1.600e-02, -8.930e-01,  2.710e-01,  1.000e-03,\n",
       "       -0.000e+00,  7.800e-02, -6.550e-01,  5.190e-01, -2.500e-02,\n",
       "       -1.000e-03,  1.229e+00,  8.580e-01,  7.810e-01, -1.074e+00,\n",
       "        7.060e-01,  2.700e-02,  1.856e+00, -5.200e-02, -8.000e-03,\n",
       "        0.000e+00, -9.200e-02, -2.840e-01,  1.242e+00, -1.112e+00,\n",
       "       -1.080e+00,  1.689e+00, -8.560e-01, -9.550e-01,  7.080e-01,\n",
       "       -2.176e+00,  1.646e+00, -3.900e-02, -1.990e-01,  2.889e+00,\n",
       "        5.290e-01, -7.220e-01,  4.610e-01, -2.184e+00,  1.386e+00,\n",
       "        1.524e+00, -3.507e+00, -2.110e-01,  6.040e-01, -6.000e-03])"
      ]
     },
     "execution_count": 59,
     "metadata": {},
     "output_type": "execute_result"
    }
   ],
   "source": [
    "# this is our w(weight)\n",
    "model.coef_[0].round(3)"
   ]
  },
  {
   "cell_type": "code",
   "execution_count": 60,
   "id": "5a93f548",
   "metadata": {},
   "outputs": [
    {
     "data": {
      "text/plain": [
       "array([0, 0, 0, ..., 0, 0, 1])"
      ]
     },
     "execution_count": 60,
     "metadata": {},
     "output_type": "execute_result"
    }
   ],
   "source": [
    "# hard prediction predict 0 and 1\n",
    "model.predict(X_train)"
   ]
  },
  {
   "cell_type": "code",
   "execution_count": 61,
   "id": "1001ee65",
   "metadata": {},
   "outputs": [
    {
     "data": {
      "text/plain": [
       "array([[9.66913072e-01, 3.30869278e-02],\n",
       "       [9.99716389e-01, 2.83610725e-04],\n",
       "       [9.69758784e-01, 3.02412163e-02],\n",
       "       ...,\n",
       "       [9.98582643e-01, 1.41735731e-03],\n",
       "       [9.99915650e-01, 8.43504034e-05],\n",
       "       [3.92542956e-02, 9.60745704e-01]])"
      ]
     },
     "execution_count": 61,
     "metadata": {},
     "output_type": "execute_result"
    }
   ],
   "source": [
    "# soft probability predict likelyhood of churning\n",
    "model.predict_proba(X_train)"
   ]
  },
  {
   "cell_type": "code",
   "execution_count": 62,
   "id": "702f8ee4",
   "metadata": {},
   "outputs": [],
   "source": [
    "# using it on valitaton dataset\n",
    "y_pred =model.predict_proba(X_val)[:,1]"
   ]
  },
  {
   "cell_type": "code",
   "execution_count": 63,
   "id": "8080a7cc",
   "metadata": {},
   "outputs": [],
   "source": [
    "above_average_decision = (y_pred >= 0.5)"
   ]
  },
  {
   "cell_type": "code",
   "execution_count": 64,
   "id": "ab5b4a21",
   "metadata": {},
   "outputs": [],
   "source": [
    "# check the accuracy of the model\n",
    "accuracy = (y_val == above_average_decision).mean()"
   ]
  },
  {
   "cell_type": "code",
   "execution_count": 65,
   "id": "d99ad9e6",
   "metadata": {},
   "outputs": [
    {
     "name": "stdout",
     "output_type": "stream",
     "text": [
      "0.94\n"
     ]
    }
   ],
   "source": [
    "print(round(accuracy,2))"
   ]
  },
  {
   "cell_type": "code",
   "execution_count": 66,
   "id": "3f713110",
   "metadata": {},
   "outputs": [],
   "source": [
    "df_pred = pd.DataFrame()\n",
    "df_pred['probability'] = y_pred\n",
    "df_pred['prediction'] =above_average_decision.astype(int)\n",
    "df_pred['actual'] = y_val"
   ]
  },
  {
   "cell_type": "code",
   "execution_count": 67,
   "id": "6509d99e",
   "metadata": {},
   "outputs": [],
   "source": [
    "df_pred['correct'] = df_pred.prediction == df_pred.actual"
   ]
  },
  {
   "cell_type": "code",
   "execution_count": 68,
   "id": "80ae5319",
   "metadata": {},
   "outputs": [
    {
     "data": {
      "text/html": [
       "<div>\n",
       "<style scoped>\n",
       "    .dataframe tbody tr th:only-of-type {\n",
       "        vertical-align: middle;\n",
       "    }\n",
       "\n",
       "    .dataframe tbody tr th {\n",
       "        vertical-align: top;\n",
       "    }\n",
       "\n",
       "    .dataframe thead th {\n",
       "        text-align: right;\n",
       "    }\n",
       "</style>\n",
       "<table border=\"1\" class=\"dataframe\">\n",
       "  <thead>\n",
       "    <tr style=\"text-align: right;\">\n",
       "      <th></th>\n",
       "      <th>probability</th>\n",
       "      <th>prediction</th>\n",
       "      <th>actual</th>\n",
       "      <th>correct</th>\n",
       "    </tr>\n",
       "  </thead>\n",
       "  <tbody>\n",
       "    <tr>\n",
       "      <th>0</th>\n",
       "      <td>0.000664</td>\n",
       "      <td>0</td>\n",
       "      <td>0</td>\n",
       "      <td>True</td>\n",
       "    </tr>\n",
       "    <tr>\n",
       "      <th>1</th>\n",
       "      <td>0.999545</td>\n",
       "      <td>1</td>\n",
       "      <td>1</td>\n",
       "      <td>True</td>\n",
       "    </tr>\n",
       "    <tr>\n",
       "      <th>2</th>\n",
       "      <td>0.000008</td>\n",
       "      <td>0</td>\n",
       "      <td>0</td>\n",
       "      <td>True</td>\n",
       "    </tr>\n",
       "    <tr>\n",
       "      <th>3</th>\n",
       "      <td>0.261063</td>\n",
       "      <td>0</td>\n",
       "      <td>0</td>\n",
       "      <td>True</td>\n",
       "    </tr>\n",
       "    <tr>\n",
       "      <th>4</th>\n",
       "      <td>0.000124</td>\n",
       "      <td>0</td>\n",
       "      <td>0</td>\n",
       "      <td>True</td>\n",
       "    </tr>\n",
       "    <tr>\n",
       "      <th>...</th>\n",
       "      <td>...</td>\n",
       "      <td>...</td>\n",
       "      <td>...</td>\n",
       "      <td>...</td>\n",
       "    </tr>\n",
       "    <tr>\n",
       "      <th>2378</th>\n",
       "      <td>0.000093</td>\n",
       "      <td>0</td>\n",
       "      <td>0</td>\n",
       "      <td>True</td>\n",
       "    </tr>\n",
       "    <tr>\n",
       "      <th>2379</th>\n",
       "      <td>0.000503</td>\n",
       "      <td>0</td>\n",
       "      <td>0</td>\n",
       "      <td>True</td>\n",
       "    </tr>\n",
       "    <tr>\n",
       "      <th>2380</th>\n",
       "      <td>0.000005</td>\n",
       "      <td>0</td>\n",
       "      <td>0</td>\n",
       "      <td>True</td>\n",
       "    </tr>\n",
       "    <tr>\n",
       "      <th>2381</th>\n",
       "      <td>0.998479</td>\n",
       "      <td>1</td>\n",
       "      <td>1</td>\n",
       "      <td>True</td>\n",
       "    </tr>\n",
       "    <tr>\n",
       "      <th>2382</th>\n",
       "      <td>0.998277</td>\n",
       "      <td>1</td>\n",
       "      <td>1</td>\n",
       "      <td>True</td>\n",
       "    </tr>\n",
       "  </tbody>\n",
       "</table>\n",
       "<p>2383 rows × 4 columns</p>\n",
       "</div>"
      ],
      "text/plain": [
       "      probability  prediction  actual  correct\n",
       "0        0.000664           0       0     True\n",
       "1        0.999545           1       1     True\n",
       "2        0.000008           0       0     True\n",
       "3        0.261063           0       0     True\n",
       "4        0.000124           0       0     True\n",
       "...           ...         ...     ...      ...\n",
       "2378     0.000093           0       0     True\n",
       "2379     0.000503           0       0     True\n",
       "2380     0.000005           0       0     True\n",
       "2381     0.998479           1       1     True\n",
       "2382     0.998277           1       1     True\n",
       "\n",
       "[2383 rows x 4 columns]"
      ]
     },
     "execution_count": 68,
     "metadata": {},
     "output_type": "execute_result"
    }
   ],
   "source": [
    "df_pred"
   ]
  },
  {
   "cell_type": "code",
   "execution_count": 69,
   "id": "b2b69d50",
   "metadata": {},
   "outputs": [
    {
     "data": {
      "text/plain": [
       "2383"
      ]
     },
     "execution_count": 69,
     "metadata": {},
     "output_type": "execute_result"
    }
   ],
   "source": [
    "len(X_val)"
   ]
  },
  {
   "cell_type": "code",
   "execution_count": 70,
   "id": "af9d0229",
   "metadata": {},
   "outputs": [
    {
     "data": {
      "text/plain": [
       "2240"
      ]
     },
     "execution_count": 70,
     "metadata": {},
     "output_type": "execute_result"
    }
   ],
   "source": [
    "(y_val == above_average_decision).sum()"
   ]
  },
  {
   "cell_type": "code",
   "execution_count": 71,
   "id": "9212262e",
   "metadata": {},
   "outputs": [
    {
     "data": {
      "text/plain": [
       "0.9399916072177927"
      ]
     },
     "execution_count": 71,
     "metadata": {},
     "output_type": "execute_result"
    }
   ],
   "source": [
    "2240/2383"
   ]
  },
  {
   "cell_type": "code",
   "execution_count": 72,
   "id": "27176394",
   "metadata": {},
   "outputs": [
    {
     "name": "stdout",
     "output_type": "stream",
     "text": [
      "0.000.277\n",
      "0.050.892\n",
      "0.100.909\n",
      "0.150.917\n",
      "0.200.920\n",
      "0.250.928\n",
      "0.300.936\n",
      "0.350.936\n",
      "0.400.939\n",
      "0.450.940\n",
      "0.500.940\n",
      "0.550.940\n",
      "0.600.940\n",
      "0.650.941\n",
      "0.700.940\n",
      "0.750.940\n",
      "0.800.937\n",
      "0.850.931\n",
      "0.900.920\n",
      "0.950.896\n",
      "1.000.723\n"
     ]
    }
   ],
   "source": [
    "thresholds = np.linspace(0, 1,21)\n",
    "\n",
    "scores= []\n",
    "for t in thresholds:\n",
    "    above_average_decision =(y_pred >=t)\n",
    "    score = (y_val == above_average_decision).mean()\n",
    "    print('%.2f%.3f'%(t,score))\n",
    "    scores.append(score)"
   ]
  },
  {
   "cell_type": "code",
   "execution_count": 73,
   "id": "dc32f698",
   "metadata": {},
   "outputs": [
    {
     "data": {
      "text/plain": [
       "[<matplotlib.lines.Line2D at 0x1b5def7b910>]"
      ]
     },
     "execution_count": 73,
     "metadata": {},
     "output_type": "execute_result"
    },
    {
     "data": {
      "image/png": "[encoded data removed]",
      "text/plain": [
       "<Figure size 1200x800 with 1 Axes>"
      ]
     },
     "metadata": {},
     "output_type": "display_data"
    }
   ],
   "source": [
    "plt.plot(thresholds, scores)"
   ]
  },
  {
   "cell_type": "code",
   "execution_count": 74,
   "id": "25ee9857",
   "metadata": {},
   "outputs": [],
   "source": [
    "from sklearn.metrics import accuracy_score"
   ]
  },
  {
   "cell_type": "code",
   "execution_count": 75,
   "id": "9c82cb05",
   "metadata": {},
   "outputs": [
    {
     "data": {
      "text/plain": [
       "0.9408308854385229"
      ]
     },
     "execution_count": 75,
     "metadata": {},
     "output_type": "execute_result"
    }
   ],
   "source": [
    "accuracy_score(y_val,y_pred >=0.65)"
   ]
  },
  {
   "cell_type": "code",
   "execution_count": 76,
   "id": "c59dc9ad",
   "metadata": {},
   "outputs": [],
   "source": [
    "from sklearn.linear_model import Ridge\n",
    "from sklearn.metrics import mean_squared_error\n",
    "from math import sqrt"
   ]
  },
  {
   "cell_type": "code",
   "execution_count": 78,
   "id": "437fe6ae",
   "metadata": {},
   "outputs": [],
   "source": [
    "df['price'] = np.log1p(df[['price']])"
   ]
  },
  {
   "cell_type": "code",
   "execution_count": 79,
   "id": "30334475",
   "metadata": {},
   "outputs": [],
   "source": [
    "selected_columns= ['make','model','engine_fuel_type', 'transmission_type','driven_wheels','market_category', 'vehicle_size', 'vehicle_style', 'year',\n",
    "                 'number_of_doors','popularity', 'highway_mpg', 'city_mpg', 'engine_cylinders', 'engine_hp','price']"
   ]
  },
  {
   "cell_type": "code",
   "execution_count": 80,
   "id": "30418f33",
   "metadata": {},
   "outputs": [],
   "source": [
    "data=df[selected_columns]\n"
   ]
  },
  {
   "cell_type": "code",
   "execution_count": 81,
   "id": "09ded851",
   "metadata": {},
   "outputs": [],
   "source": [
    "X= data.drop(columns=['price'])\n",
    "y = data['price']"
   ]
  },
  {
   "cell_type": "code",
   "execution_count": 82,
   "id": "41b8198d",
   "metadata": {},
   "outputs": [],
   "source": [
    "X_train, X_val, y_train, _y_val= train_test_split(X, y, test_size=0.2, random_state =42)"
   ]
  },
  {
   "cell_type": "code",
   "execution_count": 83,
   "id": "382bc9f7",
   "metadata": {},
   "outputs": [],
   "source": [
    "X_train_dict = X_train.to_dict(orient='records')\n",
    "X_val_dict = X_val.to_dict(orient='records')"
   ]
  },
  {
   "cell_type": "code",
   "execution_count": 84,
   "id": "2c9eceb7",
   "metadata": {},
   "outputs": [],
   "source": [
    "vectorizer =DictVectorizer(sparse=False)\n",
    "X_train_encoded = vectorizer.fit_transform(X_train_dict)\n",
    "X_val_encoded = vectorizer.transform(X_val_dict)"
   ]
  },
  {
   "cell_type": "code",
   "execution_count": 85,
   "id": "8d1908ee",
   "metadata": {},
   "outputs": [],
   "source": [
    "alpha_values = [0, 0.01, 0.1, 1, 10]"
   ]
  },
  {
   "cell_type": "code",
   "execution_count": 86,
   "id": "327d02ca",
   "metadata": {},
   "outputs": [],
   "source": [
    "rmse_score = {}"
   ]
  },
  {
   "cell_type": "code",
   "execution_count": 87,
   "id": "549feaeb",
   "metadata": {},
   "outputs": [],
   "source": [
    "for alpha in alpha_values:\n",
    "    model = Ridge(alpha=alpha,solver='sag', random_state=42)\n",
    "    model.fit(X_train_encoded, y_train)"
   ]
  },
  {
   "cell_type": "code",
   "execution_count": 88,
   "id": "a086561e",
   "metadata": {},
   "outputs": [],
   "source": [
    "y_pred = model.predict(X_val_encoded)"
   ]
  },
  {
   "cell_type": "code",
   "execution_count": 89,
   "id": "8cb3d469",
   "metadata": {},
   "outputs": [],
   "source": [
    "rmse =round(sqrt(mean_squared_error(y_val,y_pred)),3)\n",
    "rmse_score[alpha]= rmse"
   ]
  },
  {
   "cell_type": "code",
   "execution_count": 90,
   "id": "0568e04f",
   "metadata": {},
   "outputs": [
    {
     "name": "stdout",
     "output_type": "stream",
     "text": [
      "Alpha=10: RMSE =9.89\n"
     ]
    }
   ],
   "source": [
    "for alpha, rmse in rmse_score.items():\n",
    "    print(f'Alpha={alpha}: RMSE ={rmse}')"
   ]
  }
 ],
 "metadata": {
  "kernelspec": {
   "display_name": "Python 3 (ipykernel)",
   "language": "python",
   "name": "python3"
  },
  "language_info": {
   "codemirror_mode": {
    "name": "ipython",
    "version": 3
   },
   "file_extension": ".py",
   "mimetype": "text/x-python",
   "name": "python",
   "nbconvert_exporter": "python",
   "pygments_lexer": "ipython3",
   "version": "3.9.13"
  }
 },
 "nbformat": 4,
 "nbformat_minor": 5
}
